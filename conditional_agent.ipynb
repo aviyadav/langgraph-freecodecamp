{
 "cells": [
  {
   "cell_type": "code",
   "execution_count": 1,
   "id": "c3d5300d",
   "metadata": {},
   "outputs": [],
   "source": [
    "from typing import TypedDict\n",
    "from langgraph.graph import StateGraph, START, END"
   ]
  },
  {
   "cell_type": "code",
   "execution_count": 2,
   "id": "5aca4834",
   "metadata": {},
   "outputs": [],
   "source": [
    "class AgentState(TypedDict):\n",
    "     \n",
    "     number1: int\n",
    "     operation: str\n",
    "     number2: int\n",
    "     finalNumber: int"
   ]
  },
  {
   "cell_type": "code",
   "execution_count": 3,
   "id": "b6b0a816",
   "metadata": {},
   "outputs": [],
   "source": [
    "def op_add(state: AgentState) -> AgentState:\n",
    "\n",
    "    state['finalNumber'] = state['number1'] + state['number2']\n",
    "    return state\n",
    "\n",
    "\n",
    "def op_substract(state: AgentState) -> AgentState:\n",
    "\n",
    "    state['finalNumber'] = state['number1'] - state['number2']\n",
    "    return state\n",
    "\n",
    "def decide_next_node(state: AgentState) -> AgentState:\n",
    "    if state['operation'] == '+':\n",
    "        return \"addition_operation\"\n",
    "    elif state['operation'] == '-':\n",
    "        return \"substraction_operation\""
   ]
  },
  {
   "cell_type": "code",
   "execution_count": 5,
   "id": "85820308",
   "metadata": {},
   "outputs": [],
   "source": [
    "graph = StateGraph(AgentState)\n",
    "\n",
    "graph.add_node(\"add_node\", op_add)\n",
    "graph.add_node(\"substract_node\", op_substract)\n",
    "graph.add_node(\"router\", lambda state: state)\n",
    "\n",
    "graph.add_edge(START, \"router\")\n",
    "\n",
    "graph.add_conditional_edges(\n",
    "    \"router\",\n",
    "    decide_next_node,\n",
    "\n",
    "    {\n",
    "        # Edge: Node\n",
    "        \"addition_operation\": \"add_node\",\n",
    "        \"substraction_operation\": \"substract_node\"\n",
    "    }\n",
    ")\n",
    "\n",
    "\n",
    "graph.add_edge(\"add_node\", END)\n",
    "graph.add_edge(\"substract_node\", END)\n",
    "\n",
    "app = graph.compile()"
   ]
  },
  {
   "cell_type": "code",
   "execution_count": 6,
   "id": "f5e7cccc",
   "metadata": {},
   "outputs": [
    {
     "data": {
      "image/png": "[encoded data removed]",
      "text/plain": [
       "<IPython.core.display.Image object>"
      ]
     },
     "metadata": {},
     "output_type": "display_data"
    }
   ],
   "source": [
    "from IPython.display import Image, display\n",
    "display(Image(app.get_graph().draw_mermaid_png()))"
   ]
  },
  {
   "cell_type": "code",
   "execution_count": 7,
   "id": "98456b0f",
   "metadata": {},
   "outputs": [
    {
     "name": "stdout",
     "output_type": "stream",
     "text": [
      "{'number1': 10, 'operation': '-', 'number2': 5, 'finalNumber': 5}\n"
     ]
    }
   ],
   "source": [
    "initial_state_1 = AgentState(number1=10, operation=\"-\", number2=5)\n",
    "print(app.invoke(initial_state_1))"
   ]
  },
  {
   "cell_type": "code",
   "execution_count": 9,
   "id": "fcfe0ae5",
   "metadata": {},
   "outputs": [
    {
     "name": "stdout",
     "output_type": "stream",
     "text": [
      "{'number1': 121, 'operation': '-', 'number2': 23, 'finalNumber': 98}\n"
     ]
    }
   ],
   "source": [
    "result = app.invoke({'number1': 121, 'operation': '-', 'number2': 23})\n",
    "print(result)"
   ]
  }
 ],
 "metadata": {
  "kernelspec": {
   "display_name": "langgraph-freecodecamp",
   "language": "python",
   "name": "python3"
  },
  "language_info": {
   "codemirror_mode": {
    "name": "ipython",
    "version": 3
   },
   "file_extension": ".py",
   "mimetype": "text/x-python",
   "name": "python",
   "nbconvert_exporter": "python",
   "pygments_lexer": "ipython3",
   "version": "3.12.3"
  }
 },
 "nbformat": 4,
 "nbformat_minor": 5
}
